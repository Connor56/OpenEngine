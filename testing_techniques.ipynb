{
 "cells": [
  {
   "cell_type": "code",
   "execution_count": null,
   "metadata": {},
   "outputs": [],
   "source": [
    "%load_ext autoreload\n",
    "%autoreload 2\n",
    "\n",
    "import asyncio\n",
    "import httpx\n",
    "from crawler import crawler, pattern_filter\n",
    "\n",
    "\n",
    "url_queue = asyncio.Queue()\n",
    "stop_crawling = asyncio.Event()\n",
    "await url_queue.put(\"https://caseyhandmer.wordpress.com/\")\n",
    "\n",
    "\n",
    "import time\n",
    "\n",
    "addable_urls = []\n",
    "async with httpx.AsyncClient() as client:\n",
    "    addable_urls = await crawler(\n",
    "        url_queue,\n",
    "        url_filter={\"filter_func\": pattern_filter, \"kwargs\": {\"regex_patterns\": [\"https://\"]}},\n",
    "        client=client,\n",
    "        response_queue=[],\n",
    "        pause=stop_crawling,\n",
    "        end=stop_crawling,\n",
    "    )\n",
    "    print(\"addable urls:\", addable_urls)\n",
    "    stop_crawling.set()"
   ]
  },
  {
   "cell_type": "code",
   "execution_count": null,
   "metadata": {},
   "outputs": [],
   "source": [
    "from urllib.parse import urlparse, urlunparse\n",
    "from joblib import load\n",
    "\n",
    "addable_urls = load(\"cleanable_urls.joblib\")\n",
    "\n",
    "def clean_urls(urls):\n",
    "    cleaned_urls = set()  # Use a set to ensure no duplicates\n",
    "\n",
    "    # Remove fragments and trailing slashes\n",
    "    for url in urls:\n",
    "        parsed_url = urlparse(url)\n",
    "\n",
    "        cleaned_url = parsed_url._replace(fragment=\"\")\n",
    "\n",
    "        final_url = urlunparse(cleaned_url).rstrip(\"/\")\n",
    "\n",
    "        cleaned_urls.add(final_url)\n",
    "\n",
    "    return list(cleaned_urls) \n",
    "\n",
    "print(len(addable_urls))\n",
    "cleaned_urls = clean_urls(addable_urls)\n",
    "print(len(cleaned_urls))\n"
   ]
  }
 ],
 "metadata": {
  "kernelspec": {
   "display_name": "openengine-i17BiW9c-py3.12",
   "language": "python",
   "name": "python3"
  },
  "language_info": {
   "codemirror_mode": {
    "name": "ipython",
    "version": 3
   },
   "file_extension": ".py",
   "mimetype": "text/x-python",
   "name": "python",
   "nbconvert_exporter": "python",
   "pygments_lexer": "ipython3",
   "version": "3.12.3"
  }
 },
 "nbformat": 4,
 "nbformat_minor": 2
}
