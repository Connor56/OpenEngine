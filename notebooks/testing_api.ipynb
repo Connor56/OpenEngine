{
 "cells": [
  {
   "cell_type": "markdown",
   "metadata": {},
   "source": [
    "# Testing the FastAPI Application"
   ]
  },
  {
   "cell_type": "code",
   "execution_count": 17,
   "metadata": {},
   "outputs": [
    {
     "data": {
      "text/plain": [
       "{'message': 'Hello, test_user!'}"
      ]
     },
     "execution_count": 17,
     "metadata": {},
     "output_type": "execute_result"
    }
   ],
   "source": [
    "import requests\n",
    "\n",
    "# Get a token\n",
    "response = requests.post('http://127.0.0.1:8000/token')\n",
    "\n",
    "# Get the token\n",
    "token = response.json()['access_token']\n",
    "\n",
    "# Make a request\n",
    "response = requests.get('http://127.0.0.1:8000/hello', headers={'Authorization': f'Bearer {token}'})\n",
    "response.json()"
   ]
  },
  {
   "cell_type": "code",
   "execution_count": 18,
   "metadata": {},
   "outputs": [
    {
     "name": "stdout",
     "output_type": "stream",
     "text": [
      "2a7cfd495252871bb49bdd087db3344ac287fe2e7e03e7aed23818c8b0803e4a\n"
     ]
    }
   ],
   "source": [
    "import secrets\n",
    "\n",
    "# Generate a secure 256-bit key (32 bytes)\n",
    "secret_key = secrets.token_hex(32)  # Returns a 64-character hexadecimal string\n",
    "print(secret_key)"
   ]
  }
 ],
 "metadata": {
  "kernelspec": {
   "display_name": "openengine-i17BiW9c-py3.12",
   "language": "python",
   "name": "python3"
  },
  "language_info": {
   "codemirror_mode": {
    "name": "ipython",
    "version": 3
   },
   "file_extension": ".py",
   "mimetype": "text/x-python",
   "name": "python",
   "nbconvert_exporter": "python",
   "pygments_lexer": "ipython3",
   "version": "3.12.3"
  }
 },
 "nbformat": 4,
 "nbformat_minor": 2
}
