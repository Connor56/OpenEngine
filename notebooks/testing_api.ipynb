{
 "cells": [
  {
   "cell_type": "markdown",
   "metadata": {},
   "source": [
    "# Testing the FastAPI Application"
   ]
  },
  {
   "cell_type": "code",
   "execution_count": null,
   "metadata": {},
   "outputs": [],
   "source": [
    "import requests\n",
    "\n",
    "# Get a token\n",
    "response = requests.post('http://127.0.0.1:8000/token')\n",
    "\n",
    "# Get the token\n",
    "token = response.json()['access_token']\n",
    "\n",
    "# Make a request\n",
    "response = requests.get('http://127.0.0.1:8000/hello', headers={'Authorization': f'Bearer {token}'})\n",
    "response.json()"
   ]
  },
  {
   "cell_type": "code",
   "execution_count": null,
   "metadata": {},
   "outputs": [],
   "source": [
    "import secrets\n",
    "\n",
    "# Generate a secure 256-bit key (32 bytes)\n",
    "secret_key = secrets.token_hex(32)  # Returns a 64-character hexadecimal string\n",
    "print(secret_key)"
   ]
  },
  {
   "cell_type": "markdown",
   "metadata": {},
   "source": [
    "# Testing the Qdrant Server"
   ]
  },
  {
   "cell_type": "code",
   "execution_count": null,
   "metadata": {},
   "outputs": [],
   "source": [
    "import qdrant_client\n",
    "from qdrant_client import QdrantClient\n",
    "\n",
    "qdrant: QdrantClient = qdrant_client.QdrantClient(host=\"localhost\", port=6333)\n",
    "\n",
    "result = qdrant.query_points(collection_name=\"embeddings\", query=[0.1] * 384, with_payload=True)\n",
    "\n",
    "result"
   ]
  }
 ],
 "metadata": {
  "kernelspec": {
   "display_name": "openengine-i17BiW9c-py3.12",
   "language": "python",
   "name": "python3"
  },
  "language_info": {
   "codemirror_mode": {
    "name": "ipython",
    "version": 3
   },
   "file_extension": ".py",
   "mimetype": "text/x-python",
   "name": "python",
   "nbconvert_exporter": "python",
   "pygments_lexer": "ipython3",
   "version": "3.12.3"
  }
 },
 "nbformat": 4,
 "nbformat_minor": 2
}
